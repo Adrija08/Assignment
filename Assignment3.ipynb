{
  "nbformat": 4,
  "nbformat_minor": 0,
  "metadata": {
    "colab": {
      "name": "Assignment3.ipynb",
      "provenance": [],
      "authorship_tag": "ABX9TyM84TwcQFKmQLI+X+r5EkiQ",
      "include_colab_link": true
    },
    "kernelspec": {
      "name": "python3",
      "display_name": "Python 3"
    }
  },
  "cells": [
    {
      "cell_type": "markdown",
      "metadata": {
        "id": "view-in-github",
        "colab_type": "text"
      },
      "source": [
        "<a href=\"https://colab.research.google.com/github/Adrija08/Assignment/blob/main/Assignment3.ipynb\" target=\"_parent\"><img src=\"https://colab.research.google.com/assets/colab-badge.svg\" alt=\"Open In Colab\"/></a>"
      ]
    },
    {
      "cell_type": "code",
      "metadata": {
        "colab": {
          "base_uri": "https://localhost:8080/"
        },
        "id": "QAPOdv6DyeF6",
        "outputId": "0569ef07-b04b-4a77-ca9d-3c434795b909"
      },
      "source": [
        "n=int(input(\"Enter a Number:\"))\r\n",
        "def test_prime(n):\r\n",
        "    if (n==1):\r\n",
        "        return \"Number is not prime\"\r\n",
        "    elif (n==2):\r\n",
        "        return \"Number is prime\"\r\n",
        "    else:\r\n",
        "        for x in range(2,n):\r\n",
        "            if(n % x==0):\r\n",
        "                return \"Number is not prime\"\r\n",
        "        return  \"Number is prime\"            \r\n",
        "print(test_prime(n))\r\n"
      ],
      "execution_count": 5,
      "outputs": [
        {
          "output_type": "stream",
          "text": [
            "Enter a Number:7\n",
            "Number is prime\n"
          ],
          "name": "stdout"
        }
      ]
    }
  ]
}