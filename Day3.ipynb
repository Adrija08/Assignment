{
  "nbformat": 4,
  "nbformat_minor": 0,
  "metadata": {
    "colab": {
      "name": "Day3.ipynb",
      "provenance": [],
      "authorship_tag": "ABX9TyMBuUPYKiUaLZ2Rhu+ompR7",
      "include_colab_link": true
    },
    "kernelspec": {
      "name": "python3",
      "display_name": "Python 3"
    }
  },
  "cells": [
    {
      "cell_type": "markdown",
      "metadata": {
        "id": "view-in-github",
        "colab_type": "text"
      },
      "source": [
        "<a href=\"https://colab.research.google.com/github/Adrija08/Assignment/blob/main/Day3.ipynb\" target=\"_parent\"><img src=\"https://colab.research.google.com/assets/colab-badge.svg\" alt=\"Open In Colab\"/></a>"
      ]
    },
    {
      "cell_type": "markdown",
      "metadata": {
        "id": "IwG2C8LorMs5"
      },
      "source": [
        "You all are pilots, you have to land a plane, the altitude required for landing a plane is 1000ft, if it\r\n",
        "is less than that tell the pilot to land the plane, or it is more than that but less than 5000ft ask the\r\n",
        "pilot to \"come down to 1000ft\", else if it is more than 5000ft ask the pilot to \"go around and try\r\n",
        "later\""
      ]
    },
    {
      "cell_type": "code",
      "metadata": {
        "colab": {
          "base_uri": "https://localhost:8080/"
        },
        "id": "yZ1zRRVbq2is",
        "outputId": "8d3699fb-ba48-4757-cf1b-94ce9125d48c"
      },
      "source": [
        "print(\"Enter the altitude: \")\r\n",
        "alt=int(input())\r\n",
        "if alt<1000:\r\n",
        "  print(\"Land the plane\")\r\n",
        "elif alt>1000 and alt<5000:\r\n",
        "  print(\"Come down to 1000ft\")\r\n",
        "elif alt>5000:\r\n",
        "  print(\"go around and try later\")\r\n",
        "else:\r\n",
        "  print(\"safe to land\")"
      ],
      "execution_count": 4,
      "outputs": [
        {
          "output_type": "stream",
          "text": [
            "Enter the altitude: \n",
            "1000\n",
            "safe to land\n"
          ],
          "name": "stdout"
        }
      ]
    },
    {
      "cell_type": "code",
      "metadata": {
        "colab": {
          "base_uri": "https://localhost:8080/"
        },
        "id": "gZFVEjTlrO25",
        "outputId": "99acb5c6-1568-4913-8d1d-8c83aebc0c7a"
      },
      "source": [
        "print(\"Enter the altitude: \")\r\n",
        "alt=int(input())\r\n",
        "if alt<1000:\r\n",
        "  print(\"Land the plane\")\r\n",
        "elif alt>1000 and alt<5000:\r\n",
        "  print(\"Come down to 1000ft\")\r\n",
        "elif alt>5000:\r\n",
        "  print(\"go around and try later\")\r\n",
        "else:\r\n",
        "  print(\"safe to land\")"
      ],
      "execution_count": 5,
      "outputs": [
        {
          "output_type": "stream",
          "text": [
            "Enter the altitude: \n",
            "4500\n",
            "Come down to 1000ft\n"
          ],
          "name": "stdout"
        }
      ]
    },
    {
      "cell_type": "code",
      "metadata": {
        "colab": {
          "base_uri": "https://localhost:8080/"
        },
        "id": "C8esf8-gsxSF",
        "outputId": "5939418a-1248-46d4-d73e-492f8b25fc39"
      },
      "source": [
        "print(\"Enter the altitude: \")\r\n",
        "alt=int(input())\r\n",
        "if alt<1000:\r\n",
        "  print(\"Land the plane\")\r\n",
        "elif alt>1000 and alt<5000:\r\n",
        "  print(\"Come down to 1000ft\")\r\n",
        "elif alt>5000:\r\n",
        "  print(\"go around and try later\")\r\n",
        "else:\r\n",
        "  print(\"safe to land\")"
      ],
      "execution_count": 6,
      "outputs": [
        {
          "output_type": "stream",
          "text": [
            "Enter the altitude: \n",
            "6500\n",
            "go around and try later\n"
          ],
          "name": "stdout"
        }
      ]
    }
  ]
}