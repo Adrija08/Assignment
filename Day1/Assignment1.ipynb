{
  "nbformat": 4,
  "nbformat_minor": 0,
  "metadata": {
    "colab": {
      "name": "Assignment1.ipynb",
      "provenance": [],
      "collapsed_sections": [],
      "authorship_tag": "ABX9TyOmNQtuhXyROlIeTuf9sDC0",
      "include_colab_link": true
    },
    "kernelspec": {
      "name": "python3",
      "display_name": "Python 3"
    }
  },
  "cells": [
    {
      "cell_type": "markdown",
      "metadata": {
        "id": "view-in-github",
        "colab_type": "text"
      },
      "source": [
        "<a href=\"https://colab.research.google.com/github/Adrija08/Assignment/blob/main/Day1/Assignment1.ipynb\" target=\"_parent\"><img src=\"https://colab.research.google.com/assets/colab-badge.svg\" alt=\"Open In Colab\"/></a>"
      ]
    },
    {
      "cell_type": "markdown",
      "metadata": {
        "id": "-3dla8VQJP_u"
      },
      "source": [
        "**Question 1**\r\n",
        "Experiment with 5 List's In-built functions"
      ]
    },
    {
      "cell_type": "code",
      "metadata": {
        "colab": {
          "base_uri": "https://localhost:8080/",
          "height": 35
        },
        "id": "5JqPjv_I1BEy",
        "outputId": "89e448b6-87fe-4d9a-f211-c34840eadbad"
      },
      "source": [
        "lst1=[1,2,6,5,['a','b'],\"hi\",\"ok\",\"xyz\"]\r\n",
        "lst1[5]"
      ],
      "execution_count": null,
      "outputs": [
        {
          "output_type": "execute_result",
          "data": {
            "application/vnd.google.colaboratory.intrinsic+json": {
              "type": "string"
            },
            "text/plain": [
              "'hi'"
            ]
          },
          "metadata": {
            "tags": []
          },
          "execution_count": 3
        }
      ]
    },
    {
      "cell_type": "code",
      "metadata": {
        "colab": {
          "base_uri": "https://localhost:8080/"
        },
        "id": "3GODjHYW1w13",
        "outputId": "5ec4cde2-f658-4626-9233-fc9a4051394b"
      },
      "source": [
        "lst1=[1,2,6,5,['a','b'],\"hi\",\"ok\",\"xyz\"]\r\n",
        "lst1.append(9)\r\n",
        "lst1"
      ],
      "execution_count": 19,
      "outputs": [
        {
          "output_type": "execute_result",
          "data": {
            "text/plain": [
              "[1, 2, 6, 5, ['a', 'b'], 'hi', 'ok', 'xyz', 9]"
            ]
          },
          "metadata": {
            "tags": []
          },
          "execution_count": 19
        }
      ]
    },
    {
      "cell_type": "code",
      "metadata": {
        "colab": {
          "base_uri": "https://localhost:8080/"
        },
        "id": "4CNcC_Ej3Ggx",
        "outputId": "62336a70-2191-4509-b244-2f4a01670cd7"
      },
      "source": [
        "lst1=[1,2,6,5,\"hi\",\"ok\",\"xyz\"]\r\n",
        "lst1.insert(2,\"oops\")\r\n",
        "lst1"
      ],
      "execution_count": 20,
      "outputs": [
        {
          "output_type": "execute_result",
          "data": {
            "text/plain": [
              "[1, 2, 'oops', 6, 5, 'hi', 'ok', 'xyz']"
            ]
          },
          "metadata": {
            "tags": []
          },
          "execution_count": 20
        }
      ]
    },
    {
      "cell_type": "code",
      "metadata": {
        "colab": {
          "base_uri": "https://localhost:8080/"
        },
        "id": "E1mfSEgZ3r2Z",
        "outputId": "2ee25ff1-d7de-4e39-d820-a10c6fffb96d"
      },
      "source": [
        "lst=[\"red\",\"blue\",\"yellow\",\"green\"]\r\n",
        "lst.sort()\r\n",
        "lst"
      ],
      "execution_count": 22,
      "outputs": [
        {
          "output_type": "execute_result",
          "data": {
            "text/plain": [
              "['blue', 'green', 'red', 'yellow']"
            ]
          },
          "metadata": {
            "tags": []
          },
          "execution_count": 22
        }
      ]
    },
    {
      "cell_type": "code",
      "metadata": {
        "colab": {
          "base_uri": "https://localhost:8080/"
        },
        "id": "8UOsJSKF4Kam",
        "outputId": "536792e5-7d81-4f7b-d36e-869185872be3"
      },
      "source": [
        "lst=[\"red\",\"blue\",\"yellow\",\"green\",\"red\",\"red\"]\r\n",
        "x=lst.count(\"red\")\r\n",
        "x"
      ],
      "execution_count": 27,
      "outputs": [
        {
          "output_type": "execute_result",
          "data": {
            "text/plain": [
              "3"
            ]
          },
          "metadata": {
            "tags": []
          },
          "execution_count": 27
        }
      ]
    }
  ]
}