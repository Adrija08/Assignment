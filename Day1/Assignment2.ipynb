{
  "nbformat": 4,
  "nbformat_minor": 0,
  "metadata": {
    "colab": {
      "name": "Assignment2.ipynb",
      "provenance": [],
      "collapsed_sections": [],
      "authorship_tag": "ABX9TyNDpD6GNz6BR50rYuKRMu7W",
      "include_colab_link": true
    },
    "kernelspec": {
      "name": "python3",
      "display_name": "Python 3"
    }
  },
  "cells": [
    {
      "cell_type": "markdown",
      "metadata": {
        "id": "view-in-github",
        "colab_type": "text"
      },
      "source": [
        "<a href=\"https://colab.research.google.com/github/Adrija08/Assignment/blob/main/Day1/Assignment2.ipynb\" target=\"_parent\"><img src=\"https://colab.research.google.com/assets/colab-badge.svg\" alt=\"Open In Colab\"/></a>"
      ]
    },
    {
      "cell_type": "markdown",
      "metadata": {
        "id": "Bb_FzFdSSmTE"
      },
      "source": [
        "**Question 2**\r\n",
        "Experiment with 5 Dictionary’s In-Built Functions\r\n"
      ]
    },
    {
      "cell_type": "code",
      "metadata": {
        "colab": {
          "base_uri": "https://localhost:8080/",
          "height": 35
        },
        "id": "pa3HDe97Sadb",
        "outputId": "02e42696-3da4-41d7-d154-a3954f8e1407"
      },
      "source": [
        "dit={\"Name\":\"Akshay\", \"Place\":\"Kalyan\",\"District\":\"Thane\"}\r\n",
        "dit.get(\"Name\")"
      ],
      "execution_count": 5,
      "outputs": [
        {
          "output_type": "execute_result",
          "data": {
            "application/vnd.google.colaboratory.intrinsic+json": {
              "type": "string"
            },
            "text/plain": [
              "'Akshay'"
            ]
          },
          "metadata": {
            "tags": []
          },
          "execution_count": 5
        }
      ]
    },
    {
      "cell_type": "code",
      "metadata": {
        "colab": {
          "base_uri": "https://localhost:8080/"
        },
        "id": "1ocK1-9KU08U",
        "outputId": "6967cd8b-9e58-431d-bd39-ea925ed1027f"
      },
      "source": [
        "dit={\"Name\":\"Akshay\", \"Place\":\"Kalyan\",\"District\":\"Thane\"}\r\n",
        "dit[\"Place\"]=\"Dombivali\"\r\n",
        "dit"
      ],
      "execution_count": 18,
      "outputs": [
        {
          "output_type": "execute_result",
          "data": {
            "text/plain": [
              "{'District': 'Thane', 'Name': 'Akshay', 'Place': 'Dombivali'}"
            ]
          },
          "metadata": {
            "tags": []
          },
          "execution_count": 18
        }
      ]
    },
    {
      "cell_type": "code",
      "metadata": {
        "colab": {
          "base_uri": "https://localhost:8080/"
        },
        "id": "xHrXyL9UWuBs",
        "outputId": "521a0ffa-0eda-496c-dfc2-249cfd1150b4"
      },
      "source": [
        "dit={\"Name\":\"Akshay\", \"Place\":\"Kalyan\",\"District\":\"Thane\"}\r\n",
        "dit.popitem()\r\n",
        "dit"
      ],
      "execution_count": 9,
      "outputs": [
        {
          "output_type": "execute_result",
          "data": {
            "text/plain": [
              "{'Name': 'Akshay', 'Place': 'Kalyan'}"
            ]
          },
          "metadata": {
            "tags": []
          },
          "execution_count": 9
        }
      ]
    },
    {
      "cell_type": "code",
      "metadata": {
        "colab": {
          "base_uri": "https://localhost:8080/"
        },
        "id": "8sPYldSuXYV_",
        "outputId": "df1413ac-fa09-400e-9a3a-468fa357e97d"
      },
      "source": [
        "dit={\"Name\":\"Akshay\", \"Place\":\"Kalyan\",\"District\":\"Thane\"}\r\n",
        "dit.pop(\"Place\")\r\n",
        "dit"
      ],
      "execution_count": 10,
      "outputs": [
        {
          "output_type": "execute_result",
          "data": {
            "text/plain": [
              "{'District': 'Thane', 'Name': 'Akshay'}"
            ]
          },
          "metadata": {
            "tags": []
          },
          "execution_count": 10
        }
      ]
    },
    {
      "cell_type": "code",
      "metadata": {
        "colab": {
          "base_uri": "https://localhost:8080/"
        },
        "id": "3AAeYREoX0eP",
        "outputId": "1d1f761f-f537-4d92-efdd-9b5dc7e6e448"
      },
      "source": [
        "dit={\"Name\":\"Akshay\", \"Place\":\"Kalyan\",\"District\":\"Thane\"}\r\n",
        "dit1=dit.copy()\r\n",
        "print(\"dit:\" ,dit)\r\n",
        "print(\"dit1:\",dit1)"
      ],
      "execution_count": 14,
      "outputs": [
        {
          "output_type": "stream",
          "text": [
            "dit: {'Name': 'Akshay', 'Place': 'Kalyan', 'District': 'Thane'}\n",
            "dit1: {'Name': 'Akshay', 'Place': 'Kalyan', 'District': 'Thane'}\n"
          ],
          "name": "stdout"
        }
      ]
    },
    {
      "cell_type": "code",
      "metadata": {
        "colab": {
          "base_uri": "https://localhost:8080/"
        },
        "id": "0VGBjHFNZC8H",
        "outputId": "9f9d1ba2-3086-487f-df59-4539be5783ab"
      },
      "source": [
        "dit={\"Name\":\"Akshay\", \"Place\":\"Kalyan\",\"District\":\"Thane\"}\r\n",
        "dit.values()"
      ],
      "execution_count": 16,
      "outputs": [
        {
          "output_type": "execute_result",
          "data": {
            "text/plain": [
              "dict_values(['Akshay', 'Kalyan', 'Thane'])"
            ]
          },
          "metadata": {
            "tags": []
          },
          "execution_count": 16
        }
      ]
    }
  ]
}